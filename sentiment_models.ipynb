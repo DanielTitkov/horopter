{
 "cells": [
  {
   "cell_type": "code",
   "execution_count": 1,
   "metadata": {},
   "outputs": [
    {
     "name": "stderr",
     "output_type": "stream",
     "text": [
      "c:\\users\\mytas\\appdata\\local\\programs\\python\\python36\\lib\\site-packages\\gensim\\utils.py:860: UserWarning: detected Windows; aliasing chunkize to chunkize_serial\n",
      "  warnings.warn(\"detected Windows; aliasing chunkize to chunkize_serial\")\n"
     ]
    }
   ],
   "source": [
    "import pandas as pd\n",
    "import re\n",
    "import logging\n",
    "import numpy as np\n",
    "from sklearn.svm import LinearSVC\n",
    "from gensim.models import KeyedVectors\n",
    "from nltk.tokenize import word_tokenize\n",
    "from sklearn.feature_extraction.text import TfidfVectorizer\n",
    "from sklearn.model_selection import train_test_split\n",
    "from sklearn import metrics\n",
    "\n",
    "import pickle\n",
    "import matplotlib.pyplot as plt\n",
    "import matplotlib.cm as cm\n",
    "import seaborn as sns; sns.set()\n",
    "import pymorphy2\n",
    "\n",
    "from importlib import reload # in order to use basicConfig with IPython\n",
    "import logging\n",
    "reload(logging)\n",
    "logging.basicConfig(format='%(asctime)s - %(levelname)s - %(message)s', \n",
    "                    level=logging.INFO, \n",
    "                    datefmt='%I:%M:%S')\n",
    "\n",
    "from jupyterthemes import jtplot #внешний вид ноутбука и графиков\n",
    "jtplot.style(theme='onedork')\n",
    "%matplotlib inline"
   ]
  },
  {
   "cell_type": "code",
   "execution_count": 2,
   "metadata": {},
   "outputs": [],
   "source": [
    "def lemmatize(string, morph=None):\n",
    "    lemmatized = [morph.parse(w)[0].normal_form \n",
    "                  for w in word_tokenize(string)]\n",
    "    return ' '.join(lemmatized)\n",
    "\n",
    "\n",
    "def evaluate(y_true, y_pred):\n",
    "    print(\"Accuracy: {}\".format(metrics.accuracy_score(y_true, y_pred)))\n",
    "    print(metrics.classification_report(y_true, y_pred))\n",
    "    \n",
    "\n",
    "def plot_matrix(y, pred):\n",
    "    mat = metrics.confusion_matrix(y, pred)\n",
    "    correct = mat.diagonal().sum()\n",
    "    sns.set_context(\"talk\")\n",
    "    plt.figure(figsize=(5,5))\n",
    "    sns.heatmap(mat.T, square=True, annot=True, fmt='d', cbar=False, \n",
    "                cmap='viridis', \n",
    "                xticklabels=sorted(y.unique()),\n",
    "                yticklabels=sorted(y.unique()))\n",
    "    plt.xlabel('True polarity')\n",
    "    plt.ylabel('Predicted polarity')\n",
    "    plt.title(('Confusion matrix'), fontsize=14, fontweight='bold');\n",
    "    \n",
    "    \n",
    "pos_map={\n",
    "    'NOUN': '_NOUN',\n",
    "    'VERB': '_VERB', \n",
    "    'INFN': '_VERB',\n",
    "    'GRND': '_VERB', \n",
    "    'PRTF': '_VERB', \n",
    "    'PRTS': '_VERB',\n",
    "    'ADJF': '_ADJ', \n",
    "    'ADJS': '_ADJ',\n",
    "    'ADVB': '_ADV',\n",
    "    'PRED': '_ADP',\n",
    "    'NUMR': '_NUM'\n",
    "}\n",
    "\n",
    "\n",
    "def map_pos(pos_map, pos):\n",
    "    return pos_map.get(pos, \"_X\")\n",
    "\n",
    "\n",
    "def make_bag(string, model, mode='sum'):\n",
    "    pos_words = [word + map_pos(pos_map, str(morph.parse(word)[0].tag.POS)) \\\n",
    "                 for word in string.split()]    \n",
    "    vectors = [model[w] if w in model.vocab else np.zeros(300) for w in pos_words]\n",
    "    if mode == 'sum':\n",
    "        return sum(vectors)\n",
    "    return vectors"
   ]
  },
  {
   "cell_type": "markdown",
   "metadata": {},
   "source": [
    "## Prepare data"
   ]
  },
  {
   "cell_type": "code",
   "execution_count": 11,
   "metadata": {},
   "outputs": [],
   "source": [
    "MIN_CONF = 95\n",
    "LEMMATIZE = True\n",
    "FRACTION = 1\n",
    "W2V = False\n",
    "# W2V = 'ruscorpora_upos_skipgram_300_5_2018.vec.gz'\n",
    "ONLY_W2V = False"
   ]
  },
  {
   "cell_type": "code",
   "execution_count": 12,
   "metadata": {},
   "outputs": [
    {
     "name": "stderr",
     "output_type": "stream",
     "text": [
      "04:31:27 - INFO - 9778 observations in total\n",
      "04:31:27 - INFO - 7271 (74.36%) observations with confindence > 95.00%\n",
      "04:31:43 - INFO - 7271 observations lemmatized\n"
     ]
    },
    {
     "data": {
      "image/png": "[encoded data removed]",
      "text/plain": [
       "<matplotlib.figure.Figure at 0x2339bafbcf8>"
      ]
     },
     "metadata": {},
     "output_type": "display_data"
    },
    {
     "data": {
      "image/png": "[encoded data removed]",
      "text/plain": [
       "<matplotlib.figure.Figure at 0x233a19a05c0>"
      ]
     },
     "metadata": {},
     "output_type": "display_data"
    }
   ],
   "source": [
    "raw = pd.read_csv('../aggregated_results_pool_2327280__2018_08_23.tsv', sep='\\t')\n",
    "raw = raw.sample(frac=FRACTION)\n",
    "raw['CONFIDENCE:polarity'] = raw['CONFIDENCE:polarity'].map(lambda x: float(x[0:-1]))\n",
    "obs_total = raw.shape[0]\n",
    "logging.info(\"{} observations in total\".format(obs_total))\n",
    "raw = raw[raw['CONFIDENCE:polarity'] > MIN_CONF]\n",
    "obs_high_conf = raw.shape[0]\n",
    "logging.info(\"{} ({:.2%}) observations with confindence > {:.2f}%\".format(obs_high_conf, \n",
    "                                                              obs_high_conf/obs_total, \n",
    "                                                              MIN_CONF))\n",
    "raw = raw.fillna(' ')\n",
    "X = (raw['INPUT:title'] + ' ' + raw['INPUT:text']).str.lower()\n",
    "X = X.str.replace('\\W', ' ').str.replace(' +', ' ')\n",
    "y = raw['OUTPUT:polarity']\n",
    "\n",
    "if LEMMATIZE:\n",
    "    morph = pymorphy2.MorphAnalyzer()\n",
    "    X = X.apply(lemmatize, morph=morph)\n",
    "    logging.info('{} observations lemmatized'.format(X.shape[0]))\n",
    "    \n",
    "y.value_counts().plot(kind='bar', title=\"Polarities distribution\", figsize=(5,4));\n",
    "\n",
    "lens = np.array([len(t) for t in X]) \n",
    "plt.figure(figsize=(5,4))\n",
    "plt.hist(lens, bins=150)\n",
    "plt.title(('Text length distribution'), fontsize=14, fontweight='bold');"
   ]
  },
  {
   "cell_type": "markdown",
   "metadata": {},
   "source": [
    "## Build model"
   ]
  },
  {
   "cell_type": "code",
   "execution_count": 13,
   "metadata": {},
   "outputs": [
    {
     "name": "stderr",
     "output_type": "stream",
     "text": [
      "04:31:54 - INFO - 7271 observations, 4084 features\n",
      "04:31:54 - INFO - Random features: 500 | фирма | история | лука | подозреваться в | площадка в | гу мвд | грузовик | 40 | на\n",
      "04:31:54 - INFO - Excluded 263818 tokens\n",
      "04:31:54 - INFO - Random excluded: чечня предложить | зависимость от градообразующий | жара главный синоптик | раз ниже | пока безрезультатно идти | дать старт традиционный | ситуация с футбольный | на помощь пожилой | соборный площадь делать | за крестный ход\n",
      "04:31:54 - INFO - 4084 features\n"
     ]
    }
   ],
   "source": [
    "vectorizer = TfidfVectorizer(ngram_range=(1, 3), \n",
    "                             analyzer='word', \n",
    "                             lowercase=True,\n",
    "                             tokenizer=word_tokenize, \n",
    "                             min_df = 10, \n",
    "                             max_df = 0.7,\n",
    "                             max_features = 5000)\n",
    "\n",
    "#this is actually incorrect, but i don't care for now\n",
    "X_vec = vectorizer.fit_transform(X)\n",
    "\n",
    "logging.info('{} observations, {} features'.format(X_vec.shape[0], X_vec.shape[1]))\n",
    "\n",
    "features = vectorizer.get_feature_names()\n",
    "excluded = vectorizer.stop_words_\n",
    "logging.info('Random features: {}'.format(\n",
    "    ' | '.join(np.array(features)[np.random.randint(0, len(features), 10)])))\n",
    "\n",
    "logging.info('Excluded {} tokens'.format(len(vectorizer.stop_words_)))\n",
    "logging.info('Random excluded: {}'.format(\n",
    "    ' | '.join(np.array(list(excluded))[np.random.randint(0, len(excluded), 10)])))\n",
    "\n",
    "if W2V:\n",
    "    logging.info('Loading W2V...')\n",
    "    try:\n",
    "        vecmodel.vocab\n",
    "    except NameError:\n",
    "        vecmodel = KeyedVectors.load_word2vec_format(W2V, encoding='utf-8')\n",
    "    logging.info('W2V model loaded')\n",
    "    X_wv = X.apply(make_bag, model=vecmodel).reset_index(drop=True)\n",
    "    X_wv = np.matrix([*np.array(X_wv.values)])\n",
    "    X_vec = np.concatenate([X_wv, X_vec.todense()], axis=1)\n",
    "    logging.info('W2V applied')\n",
    "\n",
    "if ONLY_W2V:\n",
    "    X_vec = X_wv\n",
    "    \n",
    "logging.info('{} features'.format(X_vec.shape[1]))"
   ]
  },
  {
   "cell_type": "code",
   "execution_count": 14,
   "metadata": {},
   "outputs": [
    {
     "name": "stdout",
     "output_type": "stream",
     "text": [
      "Train:\n",
      "Accuracy: 0.8729139922978177\n",
      "             precision    recall  f1-score   support\n",
      "\n",
      "   negative       0.92      0.93      0.93      2793\n",
      "    neutral       0.83      0.81      0.82      1429\n",
      "   positive       0.82      0.81      0.81      1231\n",
      "\n",
      "avg / total       0.87      0.87      0.87      5453\n",
      "\n",
      "Test:\n",
      "Accuracy: 0.7882288228822882\n",
      "             precision    recall  f1-score   support\n",
      "\n",
      "   negative       0.88      0.89      0.89       956\n",
      "    neutral       0.67      0.69      0.68       459\n",
      "   positive       0.69      0.65      0.67       403\n",
      "\n",
      "avg / total       0.79      0.79      0.79      1818\n",
      "\n"
     ]
    },
    {
     "data": {
      "image/png": "[encoded data removed]",
      "text/plain": [
       "<matplotlib.figure.Figure at 0x2339d4260b8>"
      ]
     },
     "metadata": {},
     "output_type": "display_data"
    }
   ],
   "source": [
    "X_train, X_test, y_train, y_test = train_test_split(X_vec, y, test_size=0.25, random_state=1)\n",
    "model = LinearSVC(C=0.3, penalty='l2', dual=True, loss='hinge', class_weight='balanced')\n",
    "model.fit(X_train, y_train)\n",
    "\n",
    "print('Train:')\n",
    "pred_train = model.predict(X_train)\n",
    "evaluate(y_train, pred_train)\n",
    "\n",
    "print('Test:')\n",
    "pred_test = model.predict(X_test)\n",
    "evaluate(y_test, pred_test)\n",
    "plot_matrix(y_test, pred_test)"
   ]
  },
  {
   "cell_type": "code",
   "execution_count": 15,
   "metadata": {},
   "outputs": [],
   "source": [
    "with open('pa_vect.pkl', 'wb') as f:\n",
    "    pickle.dump(vectorizer, f)\n",
    "\n",
    "with open('pa_cl.pkl', 'wb') as f:\n",
    "    pickle.dump(model, f)"
   ]
  }
 ],
 "metadata": {
  "kernelspec": {
   "display_name": "Python 3",
   "language": "python",
   "name": "python3"
  },
  "language_info": {
   "codemirror_mode": {
    "name": "ipython",
    "version": 3
   },
   "file_extension": ".py",
   "mimetype": "text/x-python",
   "name": "python",
   "nbconvert_exporter": "python",
   "pygments_lexer": "ipython3",
   "version": "3.6.2"
  }
 },
 "nbformat": 4,
 "nbformat_minor": 2
}
