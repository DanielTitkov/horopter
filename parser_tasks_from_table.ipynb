{
 "cells": [
  {
   "cell_type": "code",
   "execution_count": 17,
   "metadata": {},
   "outputs": [],
   "source": [
    "from horopter.parsing.parsers import PaginatedSiteParser, parser_map\n",
    "from horopter.parsing.cleaners import TextCleaner\n",
    "from horopter.database import Session, Article, Task, City\n",
    "from horopter.database import get_unsaved_objects\n",
    "from horopter.resolver import resolve_task\n",
    "\n",
    "import json\n",
    "\n",
    "from importlib import reload # in order to use basicConfig with IPython\n",
    "import logging\n",
    "reload(logging)\n",
    "logging.basicConfig(format='%(asctime)s - %(levelname)s - %(name)s - %(threadName)s - %(message)s', \n",
    "                    level=logging.INFO, \n",
    "                    datefmt='%I:%M:%S')"
   ]
  },
  {
   "cell_type": "code",
   "execution_count": 19,
   "metadata": {},
   "outputs": [
    {
     "data": {
      "text/plain": [
       "[{'parser': 'PaginatedSiteParser',\n",
       "  'task': {'base_url': 'http://www.spb.aif.ru/news',\n",
       "   'city_id': '7_812',\n",
       "   'clean_params': {},\n",
       "   'fetch_params': {'sleep': 0.25},\n",
       "   'parse_params': {'text_markup': 'div.data_text a.data_anons',\n",
       "    'title_markup': 'div.data_text h2.data_title a',\n",
       "    'url_markup': 'div.data_text h2.data_title a'},\n",
       "   'source': 'spb.aif.ru'}},\n",
       " {'parser': 'PaginatedSiteParser',\n",
       "  'task': {'base_url': 'http://www.arh.aif.ru/news',\n",
       "   'city_id': '7_8182',\n",
       "   'clean_params': {},\n",
       "   'fetch_params': {'sleep': 0.25},\n",
       "   'parse_params': {'text_markup': 'div.data_text a.data_anons',\n",
       "    'title_markup': 'div.data_text h2.data_title a',\n",
       "    'url_markup': 'div.data_text h2.data_title a'},\n",
       "   'source': 'arh.aif.ru'}},\n",
       " {'parser': 'PaginatedSiteParser',\n",
       "  'task': {'base_url': 'http://www.altai.aif.ru/news',\n",
       "   'city_id': '7_3852',\n",
       "   'clean_params': {},\n",
       "   'fetch_params': {'sleep': 0.25},\n",
       "   'parse_params': {'text_markup': 'div.data_text a.data_anons',\n",
       "    'title_markup': 'div.data_text h2.data_title a',\n",
       "    'url_markup': 'div.data_text h2.data_title a'},\n",
       "   'source': 'altai.aif.ru'}},\n",
       " {'parser': 'PaginatedSiteParser',\n",
       "  'task': {'base_url': 'http://www.bryansk.aif.ru/news',\n",
       "   'city_id': '7_48322',\n",
       "   'clean_params': {},\n",
       "   'fetch_params': {'sleep': 0.25},\n",
       "   'parse_params': {'text_markup': 'div.data_text a.data_anons',\n",
       "    'title_markup': 'div.data_text h2.data_title a',\n",
       "    'url_markup': 'div.data_text h2.data_title a'},\n",
       "   'source': 'bryansk.aif.ru'}},\n",
       " {'parser': 'PaginatedSiteParser',\n",
       "  'task': {'base_url': 'http://www.vl.aif.ru/news',\n",
       "   'city_id': '7_4232',\n",
       "   'clean_params': {},\n",
       "   'fetch_params': {'sleep': 0.25},\n",
       "   'parse_params': {'text_markup': 'div.data_text a.data_anons',\n",
       "    'title_markup': 'div.data_text h2.data_title a',\n",
       "    'url_markup': 'div.data_text h2.data_title a'},\n",
       "   'source': 'vl.aif.ru'}}]"
      ]
     },
     "execution_count": 19,
     "metadata": {},
     "output_type": "execute_result"
    }
   ],
   "source": [
    "#testing tasks partialy\n",
    "session = Session()\n",
    "parser_tasks = []\n",
    "for task in session.query(Task).filter(Task.source.like('%aif.ru%')).all():\n",
    "    parser_task = {\n",
    "        'parser': task.parser, \n",
    "        'task': {\n",
    "            'source': task.source,\n",
    "            'base_url': task.base_url,\n",
    "            'city_id': task.city_id,\n",
    "            'parse_params': json.loads(task.parse_params),\n",
    "            'fetch_params': json.loads(task.fetch_params),\n",
    "            'clean_params': json.loads(task.clean_params)\n",
    "        }\n",
    "    }\n",
    "    parser_tasks.append(parser_task)\n",
    "parser_tasks[:5]"
   ]
  },
  {
   "cell_type": "code",
   "execution_count": 20,
   "metadata": {},
   "outputs": [],
   "source": [
    "# custom task\n",
    "parser_tasks = [\n",
    "    {\n",
    "        'task': {\n",
    "            'base_url': 'http://www.yar.aif.ru/news',\n",
    "            'city_id': '7_4852',\n",
    "            'clean_params': json.loads('{}'),\n",
    "            'fetch_params': json.loads('{\"sleep\": 0.25}'),\n",
    "            'parse_params': json.loads('{\"text_markup\": \"div.data_text a.data_anons\", \"title_markup\": \"div.data_text h2.data_title a\", \"url_markup\": \"div.data_text h2.data_title a\"}'),\n",
    "            'parser': 'PaginatedSiteParser',\n",
    "            'source': 'yar.aif.ru'\n",
    "        },\n",
    "        'parser': 'PaginatedSiteParser'\n",
    "    }\n",
    "]"
   ]
  },
  {
   "cell_type": "code",
   "execution_count": null,
   "metadata": {},
   "outputs": [],
   "source": []
  },
  {
   "cell_type": "code",
   "execution_count": 21,
   "metadata": {},
   "outputs": [
    {
     "name": "stderr",
     "output_type": "stream",
     "text": [
      "02:06:29 - INFO - root - MainThread - started yar.aif.ru\n",
      "02:06:29 - INFO - root - MainThread - Parser for yar.aif.ru ready\n",
      "02:06:30 - INFO - root - MainThread - Fetching http://www.yar.aif.ru/news\n",
      "02:06:30 - INFO - root - MainThread - got 10 articles\n",
      "02:06:30 - INFO - root - MainThread - 0 new articles saved in DB\n",
      "02:06:30 - INFO - root - MainThread - done yar.aif.ru\n",
      "02:06:30 - INFO - root - MainThread - Completed 1 tasks\n"
     ]
    },
    {
     "name": "stdout",
     "output_type": "stream",
     "text": [
      "Wall time: 890 ms\n"
     ]
    }
   ],
   "source": [
    "%%time\n",
    "# run synchronously\n",
    "for task in parser_tasks:\n",
    "    resolve_task(task, parser_map=parser_map, verbose=False)\n",
    "logging.info('Completed {} tasks'.format(len(parser_tasks)))"
   ]
  },
  {
   "cell_type": "code",
   "execution_count": null,
   "metadata": {},
   "outputs": [],
   "source": [
    "# if something fails\n",
    "session.rollback()"
   ]
  },
  {
   "cell_type": "code",
   "execution_count": null,
   "metadata": {},
   "outputs": [],
   "source": []
  }
 ],
 "metadata": {
  "kernelspec": {
   "display_name": "Python 3",
   "language": "python",
   "name": "python3"
  },
  "language_info": {
   "codemirror_mode": {
    "name": "ipython",
    "version": 3
   },
   "file_extension": ".py",
   "mimetype": "text/x-python",
   "name": "python",
   "nbconvert_exporter": "python",
   "pygments_lexer": "ipython3",
   "version": "3.6.2"
  }
 },
 "nbformat": 4,
 "nbformat_minor": 2
}
