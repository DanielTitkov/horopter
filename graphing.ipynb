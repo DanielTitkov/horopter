{
 "cells": [
  {
   "cell_type": "code",
   "execution_count": null,
   "metadata": {},
   "outputs": [],
   "source": [
    "from horopter.database import Session, City, Result, Article\n",
    "from sqlalchemy import func\n",
    "import pandas as pd\n",
    "import json\n",
    "import plotly as ply\n",
    "import pandas as pd\n",
    "from datetime import datetime\n",
    "import plotly.graph_objs as go"
   ]
  },
  {
   "cell_type": "code",
   "execution_count": null,
   "metadata": {},
   "outputs": [],
   "source": [
    "session = Session()"
   ]
  },
  {
   "cell_type": "code",
   "execution_count": null,
   "metadata": {},
   "outputs": [],
   "source": [
    "city_data = session.query(func.max(Result.timestamp), \n",
    "                  Result.summary, \n",
    "                  City.city_name, \n",
    "                  City.coordinates).\\\n",
    "        join(City, Result.city_id == City.city_id).\\\n",
    "        group_by(City.city_id).all()"
   ]
  },
  {
   "cell_type": "code",
   "execution_count": null,
   "metadata": {},
   "outputs": [],
   "source": [
    "def value_from_json(json_data, path=None, from_string=True):\n",
    "    data = json.loads(json_data) if from_string else json_data\n",
    "    for key in path.split('.'):\n",
    "        result = data.get(key)\n",
    "        data = result\n",
    "    return result\n",
    "\n",
    "columns=['timestamp', 'summary', 'city', 'coordinates']\n",
    "city_df = pd.DataFrame.from_records(city_data, columns=columns)\n",
    "city_df[['lat', 'lon']] = city_df['coordinates'].str.split(',', expand=True)\n",
    "\n",
    "city_df['pos'] = city_df.summary.apply(value_from_json, path='polarity.positive')\n",
    "city_df['neg'] = city_df.summary.apply(value_from_json, path='polarity.negative')\n",
    "city_df['net'] = city_df.summary.apply(value_from_json, path='polarity.neutral')\n",
    "\n",
    "city_df['P'] = city_df.pos / (city_df.pos + city_df.neg + city_df.net)\n",
    "city_df['desc'] = city_df.city + '<br>' + \\\n",
    "                    'Хорошие: ' + city_df.pos.astype(str) + \\\n",
    "                    '<br>Нейтральные: ' + city_df.net.astype(str) + \\\n",
    "                    '<br>Плохие: ' + city_df.neg.astype(str)\n",
    "city_df['amount'] = city_df.pos + city_df.neg + city_df.net\n",
    "city_df['std_amount'] = 2*(city_df.amount - city_df.amount.mean()) / city_df.amount.std() + 5.5 "
   ]
  },
  {
   "cell_type": "code",
   "execution_count": null,
   "metadata": {},
   "outputs": [],
   "source": [
    "city_df.head(2)"
   ]
  },
  {
   "cell_type": "code",
   "execution_count": null,
   "metadata": {},
   "outputs": [],
   "source": [
    "city = 'Москва'\n",
    "polarity_alias = {'pos':'Хорошие новости', \n",
    "                  'net': 'Нейтральные новости', \n",
    "                  'neg': 'Плохие новости'}\n",
    "labels = polarity_alias.keys()\n",
    "colors = ['#5df322', '#c5c5c5', '#e84a5f']"
   ]
  },
  {
   "cell_type": "code",
   "execution_count": null,
   "metadata": {},
   "outputs": [],
   "source": [
    "articles = session.query(\n",
    "    Article.title, \n",
    "    Article.text, \n",
    "    Article.timestamp,\n",
    "    Article.analysis).\\\n",
    "    join(City, Article.city_id == City.city_id).\\\n",
    "    filter(City.city_name == city).\\\n",
    "    order_by(Article.timestamp.desc()).\\\n",
    "    limit(8).all()"
   ]
  },
  {
   "cell_type": "code",
   "execution_count": null,
   "metadata": {},
   "outputs": [],
   "source": [
    "import dash_html_components as html\n",
    "\n",
    "latest_articles = [\n",
    "    html.Div([\n",
    "        html.P([\n",
    "            datetime.fromtimestamp(a.timestamp).strftime('%d.%m.%Y')\n",
    "        ], className='date'),\n",
    "        html.H4([a.title], className='article-title'),\n",
    "        html.P([a.text], className='article-text'),\n",
    "        html.P([json.loads(a.analysis)['polarity']], className='article-polarity'),\n",
    "        html.Hr(),\n",
    "    ], className='article-teaser') for a in articles\n",
    "]"
   ]
  },
  {
   "cell_type": "code",
   "execution_count": null,
   "metadata": {},
   "outputs": [],
   "source": [
    "ply.offline.init_notebook_mode(connected=True)\n",
    "\n",
    "balance_graph_data = [dict(\n",
    "    x = [city], \n",
    "    y = [int(city_df[city_df.city == city][k[0]])],\n",
    "    type = 'bar', \n",
    "    name = polarity_alias[k[0]], \n",
    "    hoverinfo=\"skip\",\n",
    "    marker = dict(\n",
    "        color=k[1]\n",
    "    )\n",
    ") for k in list(zip(labels, colors))]\n",
    "\n",
    "balance_graph_layout = dict(\n",
    "    title=city,\n",
    "    xaxis=dict(\n",
    "        autorange=True,\n",
    "        showticklabels=False\n",
    "    ),\n",
    "    yaxis=dict(\n",
    "        title = 'Количество новостей',\n",
    "        autorange=True,\n",
    "    ),\n",
    "    legend=dict(\n",
    "        orientation=\"h\"\n",
    "    )\n",
    ")\n",
    "\n",
    "balance_graph_fig = dict(data=balance_graph_data, layout=balance_graph_layout)   \n",
    "\n",
    "ply.offline.iplot(balance_graph_fig, validate=False)"
   ]
  },
  {
   "cell_type": "code",
   "execution_count": null,
   "metadata": {},
   "outputs": [],
   "source": [
    "import plotly as ply\n",
    "import plotly.graph_objs as go\n",
    "\n",
    "import pandas as pd\n",
    "\n",
    "ply.offline.init_notebook_mode(connected=True)\n",
    "mapbox_access_token = 'pk.eyJ1IjoiaG9yb3B0ZXIiLCJhIjoiY2ptZmdld21tMTFncDNwbzk0MTJmcThudSJ9.QM117wwHyTEg5dDE-_a92w'\n",
    "scl = [ [0,\"#5df322\"], [1,\"#e84a5f\"] ]\n",
    "\n",
    "data = [\n",
    "    go.Scattermapbox(\n",
    "        lat=city_df['lat'],\n",
    "        lon=city_df['lon'],\n",
    "        mode='markers',\n",
    "        marker = dict(\n",
    "            size = city_df['std_amount'].dropna()*1.75,\n",
    "            opacity = 0.8,\n",
    "            reversescale = True,\n",
    "            autocolorscale = False,\n",
    "            symbol = 'circle',\n",
    "            colorscale = scl,\n",
    "            cmin = 0,\n",
    "            color = city_df['P'],\n",
    "            cmax = city_df['P'].max(),\n",
    "        ),\n",
    "        text=city_df['desc'],\n",
    "        hoverinfo='text'\n",
    "    )]\n",
    "\n",
    "layout = go.Layout(\n",
    "    title='Nuclear Waste Sites on Campus',\n",
    "    autosize=True,\n",
    "    hovermode='closest',\n",
    "    showlegend=False,\n",
    "    margin = go.layout.Margin(\n",
    "        l=0,\n",
    "        r=0,\n",
    "        b=0,\n",
    "        t=0,\n",
    "        pad=0\n",
    "    ),\n",
    "    mapbox=dict(\n",
    "        accesstoken=mapbox_access_token,\n",
    "        bearing=0,\n",
    "        center=dict(\n",
    "            lat=60,\n",
    "            lon=80,\n",
    "        ),\n",
    "        pitch=0,\n",
    "        zoom=2,\n",
    "        style='dark'\n",
    "    ),\n",
    ")\n",
    "\n",
    "fig = dict(data=data, layout=layout)\n",
    "ply.offline.iplot(fig)"
   ]
  },
  {
   "cell_type": "code",
   "execution_count": null,
   "metadata": {},
   "outputs": [],
   "source": [
    "city"
   ]
  },
  {
   "cell_type": "code",
   "execution_count": null,
   "metadata": {},
   "outputs": [],
   "source": [
    "%%time\n",
    "single_data = session.query(Result.timestamp, Result.summary, City.city_name).\\\n",
    "                    join(City, Result.city_id == City.city_id).\\\n",
    "                    filter(City.city_name == city).\\\n",
    "                    order_by(Result.timestamp.desc()).\\\n",
    "                    limit(10).from_self().\\\n",
    "                    order_by(Result.timestamp.asc()).all()\n",
    "    \n",
    "columns=['timestamp', 'summary', 'city']\n",
    "single_df = pd.DataFrame.from_records(single_data, columns=columns)\n",
    "\n",
    "single_df['pos'] = single_df.summary.apply(value_from_json, path='polarity.positive')\n",
    "single_df['neg'] = single_df.summary.apply(value_from_json, path='polarity.negative')\n",
    "single_df['net'] = single_df.summary.apply(value_from_json, path='polarity.neutral')\n",
    "single_df['date'] = single_df.timestamp.apply(lambda x: datetime.fromtimestamp(x).strftime('%d.%m.%Y'))"
   ]
  },
  {
   "cell_type": "code",
   "execution_count": null,
   "metadata": {},
   "outputs": [],
   "source": [
    "single_df.tail(2)"
   ]
  },
  {
   "cell_type": "code",
   "execution_count": null,
   "metadata": {},
   "outputs": [],
   "source": [
    "GOOD_COLOR = '#5df322'\n",
    "BAD_COLOR = '#e84a5f'\n",
    "NEUTRAL_COLOR = '#5f5f5f'\n",
    "polarity_alias = {'pos':'Хорошие новости', \n",
    "                  'net': 'Нейтральные новости', \n",
    "                  'neg': 'Плохие новости'}\n",
    "\n",
    "single_data = [\n",
    "    go.Scatter(\n",
    "        x = single_df['date'],\n",
    "        y = single_df[i[0]],\n",
    "        mode = 'lines+markers',\n",
    "        name = polarity_alias[i[0]],\n",
    "        connectgaps=True,\n",
    "        line = dict(\n",
    "            color = i[1]\n",
    "        ),\n",
    "    ) for i in zip(['pos', 'net', 'neg'], [GOOD_COLOR, NEUTRAL_COLOR, BAD_COLOR])\n",
    "]\n",
    "\n",
    "ply.offline.iplot(single_data)"
   ]
  }
 ],
 "metadata": {
  "kernelspec": {
   "display_name": "Python 3",
   "language": "python",
   "name": "python3"
  },
  "language_info": {
   "codemirror_mode": {
    "name": "ipython",
    "version": 3
   },
   "file_extension": ".py",
   "mimetype": "text/x-python",
   "name": "python",
   "nbconvert_exporter": "python",
   "pygments_lexer": "ipython3",
   "version": "3.6.2"
  }
 },
 "nbformat": 4,
 "nbformat_minor": 2
}
